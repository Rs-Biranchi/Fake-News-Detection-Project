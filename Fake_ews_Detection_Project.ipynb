{
  "nbformat": 4,
  "nbformat_minor": 0,
  "metadata": {
    "colab": {
      "name": "Fake_ews_Detection_Project.ipynb",
      "provenance": [],
      "collapsed_sections": [],
      "mount_file_id": "19ZBaxxKJUA0A0dIwa3RAkxJZzLRijfkS",
      "authorship_tag": "ABX9TyOfHMRN79A6o3Iv/yx9kXfF",
      "include_colab_link": true
    },
    "kernelspec": {
      "name": "python3",
      "display_name": "Python 3"
    }
  },
  "cells": [
    {
      "cell_type": "markdown",
      "metadata": {
        "id": "view-in-github",
        "colab_type": "text"
      },
      "source": [
        "<a href=\"https://colab.research.google.com/github/Rs-Biranchi/Fake-News-Detection-Project/blob/main/Fake_ews_Detection_Project.ipynb\" target=\"_parent\"><img src=\"https://colab.research.google.com/assets/colab-badge.svg\" alt=\"Open In Colab\"/></a>"
      ]
    },
    {
      "cell_type": "code",
      "metadata": {
        "id": "wZia4JJJZR2d"
      },
      "source": [
        "import pandas as pd\n",
        "import numpy as np\n",
        "import matplotlib.pyplot as plt\n",
        "import seaborn as sns\n",
        "from nltk.corpus import stopwords\n",
        "from sklearn.feature_extraction.text import TfidfVectorizer\n",
        "from sklearn.model_selection import train_test_split,GridSearchCV,cross_val_score\n",
        "from sklearn.naive_bayes import MultinomialNB\n",
        "from sklearn.tree import DecisionTreeClassifier\n",
        "from sklearn.neighbors import KNeighborsClassifier\n",
        "from sklearn.linear_model import LogisticRegression\n",
        "from sklearn.metrics import accuracy_score,confusion_matrix,classification_report\n",
        "import warnings\n",
        "warnings.filterwarnings('ignore')"
      ],
      "execution_count": 1,
      "outputs": []
    },
    {
      "cell_type": "code",
      "metadata": {
        "colab": {
          "base_uri": "https://localhost:8080/",
          "height": 424
        },
        "id": "SNTFtcOdmJCx",
        "outputId": "cf2e840c-867a-4c3b-9244-a97f020661d9"
      },
      "source": [
        "data=pd.read_csv('/content/drive/MyDrive/Colab Notebooks/train_news.csv')\n",
        "data"
      ],
      "execution_count": 2,
      "outputs": [
        {
          "output_type": "execute_result",
          "data": {
            "text/html": [
              "<div>\n",
              "<style scoped>\n",
              "    .dataframe tbody tr th:only-of-type {\n",
              "        vertical-align: middle;\n",
              "    }\n",
              "\n",
              "    .dataframe tbody tr th {\n",
              "        vertical-align: top;\n",
              "    }\n",
              "\n",
              "    .dataframe thead th {\n",
              "        text-align: right;\n",
              "    }\n",
              "</style>\n",
              "<table border=\"1\" class=\"dataframe\">\n",
              "  <thead>\n",
              "    <tr style=\"text-align: right;\">\n",
              "      <th></th>\n",
              "      <th>Unnamed: 0</th>\n",
              "      <th>id</th>\n",
              "      <th>headline</th>\n",
              "      <th>written_by</th>\n",
              "      <th>news</th>\n",
              "      <th>label</th>\n",
              "    </tr>\n",
              "  </thead>\n",
              "  <tbody>\n",
              "    <tr>\n",
              "      <th>0</th>\n",
              "      <td>0</td>\n",
              "      <td>9653</td>\n",
              "      <td>Ethics Questions Dogged Agriculture Nominee as...</td>\n",
              "      <td>Eric Lipton and Steve Eder</td>\n",
              "      <td>WASHINGTON  —   In Sonny Perdue’s telling, Geo...</td>\n",
              "      <td>0</td>\n",
              "    </tr>\n",
              "    <tr>\n",
              "      <th>1</th>\n",
              "      <td>1</td>\n",
              "      <td>10041</td>\n",
              "      <td>U.S. Must Dig Deep to Stop Argentina’s Lionel ...</td>\n",
              "      <td>David Waldstein</td>\n",
              "      <td>HOUSTON  —   Venezuela had a plan. It was a ta...</td>\n",
              "      <td>0</td>\n",
              "    </tr>\n",
              "    <tr>\n",
              "      <th>2</th>\n",
              "      <td>2</td>\n",
              "      <td>19113</td>\n",
              "      <td>Cotton to House: ’Do Not Walk the Plank and Vo...</td>\n",
              "      <td>Pam Key</td>\n",
              "      <td>Sunday on ABC’s “This Week,” while discussing ...</td>\n",
              "      <td>0</td>\n",
              "    </tr>\n",
              "    <tr>\n",
              "      <th>3</th>\n",
              "      <td>3</td>\n",
              "      <td>6868</td>\n",
              "      <td>Paul LePage, Besieged Maine Governor, Sends Co...</td>\n",
              "      <td>Jess Bidgood</td>\n",
              "      <td>AUGUSTA, Me.  —   The beleaguered Republican g...</td>\n",
              "      <td>0</td>\n",
              "    </tr>\n",
              "    <tr>\n",
              "      <th>4</th>\n",
              "      <td>4</td>\n",
              "      <td>7596</td>\n",
              "      <td>A Digital 9/11 If Trump Wins</td>\n",
              "      <td>Finian Cunningham</td>\n",
              "      <td>Finian Cunningham has written extensively on...</td>\n",
              "      <td>1</td>\n",
              "    </tr>\n",
              "    <tr>\n",
              "      <th>...</th>\n",
              "      <td>...</td>\n",
              "      <td>...</td>\n",
              "      <td>...</td>\n",
              "      <td>...</td>\n",
              "      <td>...</td>\n",
              "      <td>...</td>\n",
              "    </tr>\n",
              "    <tr>\n",
              "      <th>20795</th>\n",
              "      <td>20795</td>\n",
              "      <td>5671</td>\n",
              "      <td>NaN</td>\n",
              "      <td>NeverSurrender</td>\n",
              "      <td>No, you'll be a dog licking of the vomit of yo...</td>\n",
              "      <td>1</td>\n",
              "    </tr>\n",
              "    <tr>\n",
              "      <th>20796</th>\n",
              "      <td>20796</td>\n",
              "      <td>14831</td>\n",
              "      <td>Albert Pike and the European Migrant Crisis</td>\n",
              "      <td>Rixon Stewart</td>\n",
              "      <td>By Rixon Stewart on November 5, 2016 Rixon Ste...</td>\n",
              "      <td>1</td>\n",
              "    </tr>\n",
              "    <tr>\n",
              "      <th>20797</th>\n",
              "      <td>20797</td>\n",
              "      <td>18142</td>\n",
              "      <td>Dakota Access Caught Infiltrating Protests to ...</td>\n",
              "      <td>Eddy Lavine</td>\n",
              "      <td>posted by Eddie You know the Dakota Access Pip...</td>\n",
              "      <td>1</td>\n",
              "    </tr>\n",
              "    <tr>\n",
              "      <th>20798</th>\n",
              "      <td>20798</td>\n",
              "      <td>12139</td>\n",
              "      <td>How to Stretch the Summer Solstice - The New Y...</td>\n",
              "      <td>Alison S. Cohn</td>\n",
              "      <td>It’s officially summer, and the Society Boutiq...</td>\n",
              "      <td>0</td>\n",
              "    </tr>\n",
              "    <tr>\n",
              "      <th>20799</th>\n",
              "      <td>20799</td>\n",
              "      <td>15660</td>\n",
              "      <td>Emory University to Pay for ’100 Percent’ of U...</td>\n",
              "      <td>Tom Ciccotta</td>\n",
              "      <td>Emory University in Atlanta, Georgia, has anno...</td>\n",
              "      <td>0</td>\n",
              "    </tr>\n",
              "  </tbody>\n",
              "</table>\n",
              "<p>20800 rows × 6 columns</p>\n",
              "</div>"
            ],
            "text/plain": [
              "       Unnamed: 0  ...  label\n",
              "0               0  ...      0\n",
              "1               1  ...      0\n",
              "2               2  ...      0\n",
              "3               3  ...      0\n",
              "4               4  ...      1\n",
              "...           ...  ...    ...\n",
              "20795       20795  ...      1\n",
              "20796       20796  ...      1\n",
              "20797       20797  ...      1\n",
              "20798       20798  ...      0\n",
              "20799       20799  ...      0\n",
              "\n",
              "[20800 rows x 6 columns]"
            ]
          },
          "metadata": {
            "tags": []
          },
          "execution_count": 2
        }
      ]
    },
    {
      "cell_type": "code",
      "metadata": {
        "colab": {
          "base_uri": "https://localhost:8080/"
        },
        "id": "1JMnceOdmdmV",
        "outputId": "f5260589-30c8-4c60-a9a6-f52d4437fc17"
      },
      "source": [
        "print('Shape of the dataset: ',data.shape)"
      ],
      "execution_count": 3,
      "outputs": [
        {
          "output_type": "stream",
          "text": [
            "Shape of the dataset:  (20800, 6)\n"
          ],
          "name": "stdout"
        }
      ]
    },
    {
      "cell_type": "code",
      "metadata": {
        "colab": {
          "base_uri": "https://localhost:8080/"
        },
        "id": "a4vdOuIDm6jN",
        "outputId": "df7653fa-afde-43a9-c767-21c824e93b3d"
      },
      "source": [
        "data.info()"
      ],
      "execution_count": 4,
      "outputs": [
        {
          "output_type": "stream",
          "text": [
            "<class 'pandas.core.frame.DataFrame'>\n",
            "RangeIndex: 20800 entries, 0 to 20799\n",
            "Data columns (total 6 columns):\n",
            " #   Column      Non-Null Count  Dtype \n",
            "---  ------      --------------  ----- \n",
            " 0   Unnamed: 0  20800 non-null  int64 \n",
            " 1   id          20800 non-null  int64 \n",
            " 2   headline    20242 non-null  object\n",
            " 3   written_by  18843 non-null  object\n",
            " 4   news        20761 non-null  object\n",
            " 5   label       20800 non-null  int64 \n",
            "dtypes: int64(3), object(3)\n",
            "memory usage: 975.1+ KB\n"
          ],
          "name": "stdout"
        }
      ]
    },
    {
      "cell_type": "markdown",
      "metadata": {
        "id": "G2XqK2ylnR0M"
      },
      "source": [
        "There are many nan values are present in the headline,written_by & in news features .Let's see what are featurewise null values."
      ]
    },
    {
      "cell_type": "code",
      "metadata": {
        "colab": {
          "base_uri": "https://localhost:8080/"
        },
        "id": "j2PhvKhPogSp",
        "outputId": "1ac4acb1-baf7-42f0-8b5a-21f1ae33063c"
      },
      "source": [
        "null=data.isna().sum()\n",
        "print(null)"
      ],
      "execution_count": 5,
      "outputs": [
        {
          "output_type": "stream",
          "text": [
            "Unnamed: 0       0\n",
            "id               0\n",
            "headline       558\n",
            "written_by    1957\n",
            "news            39\n",
            "label            0\n",
            "dtype: int64\n"
          ],
          "name": "stdout"
        }
      ]
    },
    {
      "cell_type": "code",
      "metadata": {
        "colab": {
          "base_uri": "https://localhost:8080/",
          "height": 301
        },
        "id": "XF-aFxLdnBf9",
        "outputId": "7189c023-e863-4e7f-ab54-82dba3cb617d"
      },
      "source": [
        "data.describe()"
      ],
      "execution_count": 6,
      "outputs": [
        {
          "output_type": "execute_result",
          "data": {
            "text/html": [
              "<div>\n",
              "<style scoped>\n",
              "    .dataframe tbody tr th:only-of-type {\n",
              "        vertical-align: middle;\n",
              "    }\n",
              "\n",
              "    .dataframe tbody tr th {\n",
              "        vertical-align: top;\n",
              "    }\n",
              "\n",
              "    .dataframe thead th {\n",
              "        text-align: right;\n",
              "    }\n",
              "</style>\n",
              "<table border=\"1\" class=\"dataframe\">\n",
              "  <thead>\n",
              "    <tr style=\"text-align: right;\">\n",
              "      <th></th>\n",
              "      <th>Unnamed: 0</th>\n",
              "      <th>id</th>\n",
              "      <th>label</th>\n",
              "    </tr>\n",
              "  </thead>\n",
              "  <tbody>\n",
              "    <tr>\n",
              "      <th>count</th>\n",
              "      <td>20800.000000</td>\n",
              "      <td>20800.000000</td>\n",
              "      <td>20800.000000</td>\n",
              "    </tr>\n",
              "    <tr>\n",
              "      <th>mean</th>\n",
              "      <td>10399.500000</td>\n",
              "      <td>10399.500000</td>\n",
              "      <td>0.500625</td>\n",
              "    </tr>\n",
              "    <tr>\n",
              "      <th>std</th>\n",
              "      <td>6004.587135</td>\n",
              "      <td>6004.587135</td>\n",
              "      <td>0.500012</td>\n",
              "    </tr>\n",
              "    <tr>\n",
              "      <th>min</th>\n",
              "      <td>0.000000</td>\n",
              "      <td>0.000000</td>\n",
              "      <td>0.000000</td>\n",
              "    </tr>\n",
              "    <tr>\n",
              "      <th>25%</th>\n",
              "      <td>5199.750000</td>\n",
              "      <td>5199.750000</td>\n",
              "      <td>0.000000</td>\n",
              "    </tr>\n",
              "    <tr>\n",
              "      <th>50%</th>\n",
              "      <td>10399.500000</td>\n",
              "      <td>10399.500000</td>\n",
              "      <td>1.000000</td>\n",
              "    </tr>\n",
              "    <tr>\n",
              "      <th>75%</th>\n",
              "      <td>15599.250000</td>\n",
              "      <td>15599.250000</td>\n",
              "      <td>1.000000</td>\n",
              "    </tr>\n",
              "    <tr>\n",
              "      <th>max</th>\n",
              "      <td>20799.000000</td>\n",
              "      <td>20799.000000</td>\n",
              "      <td>1.000000</td>\n",
              "    </tr>\n",
              "  </tbody>\n",
              "</table>\n",
              "</div>"
            ],
            "text/plain": [
              "         Unnamed: 0            id         label\n",
              "count  20800.000000  20800.000000  20800.000000\n",
              "mean   10399.500000  10399.500000      0.500625\n",
              "std     6004.587135   6004.587135      0.500012\n",
              "min        0.000000      0.000000      0.000000\n",
              "25%     5199.750000   5199.750000      0.000000\n",
              "50%    10399.500000  10399.500000      1.000000\n",
              "75%    15599.250000  15599.250000      1.000000\n",
              "max    20799.000000  20799.000000      1.000000"
            ]
          },
          "metadata": {
            "tags": []
          },
          "execution_count": 6
        }
      ]
    },
    {
      "cell_type": "code",
      "metadata": {
        "colab": {
          "base_uri": "https://localhost:8080/"
        },
        "id": "TsQTAJZ1nGS9",
        "outputId": "59d6b942-dd7a-442c-c297-862697b9de16"
      },
      "source": [
        "data.label.value_counts()"
      ],
      "execution_count": 7,
      "outputs": [
        {
          "output_type": "execute_result",
          "data": {
            "text/plain": [
              "1    10413\n",
              "0    10387\n",
              "Name: label, dtype: int64"
            ]
          },
          "metadata": {
            "tags": []
          },
          "execution_count": 7
        }
      ]
    },
    {
      "cell_type": "code",
      "metadata": {
        "colab": {
          "base_uri": "https://localhost:8080/",
          "height": 281
        },
        "id": "g64uRV4c5Mpv",
        "outputId": "70bed56d-aaa7-43a6-abb4-99496af65fd8"
      },
      "source": [
        "data.label.value_counts().plot.bar()"
      ],
      "execution_count": 8,
      "outputs": [
        {
          "output_type": "execute_result",
          "data": {
            "text/plain": [
              "<matplotlib.axes._subplots.AxesSubplot at 0x7f8d8ec37208>"
            ]
          },
          "metadata": {
            "tags": []
          },
          "execution_count": 8
        },
        {
          "output_type": "display_data",
          "data": {
            "image/png": "[encoded data removed]",
            "text/plain": [
              "<Figure size 432x288 with 1 Axes>"
            ]
          },
          "metadata": {
            "tags": [],
            "needs_background": "light"
          }
        }
      ]
    },
    {
      "cell_type": "markdown",
      "metadata": {
        "id": "DxlmDkB41Zh_"
      },
      "source": [
        "About 50% of news are Fake and rest are True."
      ]
    },
    {
      "cell_type": "code",
      "metadata": {
        "colab": {
          "base_uri": "https://localhost:8080/"
        },
        "id": "gs5r50090LBn",
        "outputId": "1e67b05f-2328-454f-85bf-c7e0643d0784"
      },
      "source": [
        "#Chcking if there any duplicate rows and dropping them\n",
        "data1=data.drop_duplicates()\n",
        "data1.shape"
      ],
      "execution_count": 9,
      "outputs": [
        {
          "output_type": "execute_result",
          "data": {
            "text/plain": [
              "(20800, 6)"
            ]
          },
          "metadata": {
            "tags": []
          },
          "execution_count": 9
        }
      ]
    },
    {
      "cell_type": "code",
      "metadata": {
        "colab": {
          "base_uri": "https://localhost:8080/",
          "height": 206
        },
        "id": "xpLzvuBh2ysH",
        "outputId": "9ee06c86-d0ac-4a65-f5f5-7af5f30fb5aa"
      },
      "source": [
        "#On the model Unnamed: 0 and id columns have no effect. So We can drop the columns.\n",
        "data.drop(['Unnamed: 0','id'],axis=1,inplace=True)\n",
        "data.head()"
      ],
      "execution_count": 10,
      "outputs": [
        {
          "output_type": "execute_result",
          "data": {
            "text/html": [
              "<div>\n",
              "<style scoped>\n",
              "    .dataframe tbody tr th:only-of-type {\n",
              "        vertical-align: middle;\n",
              "    }\n",
              "\n",
              "    .dataframe tbody tr th {\n",
              "        vertical-align: top;\n",
              "    }\n",
              "\n",
              "    .dataframe thead th {\n",
              "        text-align: right;\n",
              "    }\n",
              "</style>\n",
              "<table border=\"1\" class=\"dataframe\">\n",
              "  <thead>\n",
              "    <tr style=\"text-align: right;\">\n",
              "      <th></th>\n",
              "      <th>headline</th>\n",
              "      <th>written_by</th>\n",
              "      <th>news</th>\n",
              "      <th>label</th>\n",
              "    </tr>\n",
              "  </thead>\n",
              "  <tbody>\n",
              "    <tr>\n",
              "      <th>0</th>\n",
              "      <td>Ethics Questions Dogged Agriculture Nominee as...</td>\n",
              "      <td>Eric Lipton and Steve Eder</td>\n",
              "      <td>WASHINGTON  —   In Sonny Perdue’s telling, Geo...</td>\n",
              "      <td>0</td>\n",
              "    </tr>\n",
              "    <tr>\n",
              "      <th>1</th>\n",
              "      <td>U.S. Must Dig Deep to Stop Argentina’s Lionel ...</td>\n",
              "      <td>David Waldstein</td>\n",
              "      <td>HOUSTON  —   Venezuela had a plan. It was a ta...</td>\n",
              "      <td>0</td>\n",
              "    </tr>\n",
              "    <tr>\n",
              "      <th>2</th>\n",
              "      <td>Cotton to House: ’Do Not Walk the Plank and Vo...</td>\n",
              "      <td>Pam Key</td>\n",
              "      <td>Sunday on ABC’s “This Week,” while discussing ...</td>\n",
              "      <td>0</td>\n",
              "    </tr>\n",
              "    <tr>\n",
              "      <th>3</th>\n",
              "      <td>Paul LePage, Besieged Maine Governor, Sends Co...</td>\n",
              "      <td>Jess Bidgood</td>\n",
              "      <td>AUGUSTA, Me.  —   The beleaguered Republican g...</td>\n",
              "      <td>0</td>\n",
              "    </tr>\n",
              "    <tr>\n",
              "      <th>4</th>\n",
              "      <td>A Digital 9/11 If Trump Wins</td>\n",
              "      <td>Finian Cunningham</td>\n",
              "      <td>Finian Cunningham has written extensively on...</td>\n",
              "      <td>1</td>\n",
              "    </tr>\n",
              "  </tbody>\n",
              "</table>\n",
              "</div>"
            ],
            "text/plain": [
              "                                            headline  ... label\n",
              "0  Ethics Questions Dogged Agriculture Nominee as...  ...     0\n",
              "1  U.S. Must Dig Deep to Stop Argentina’s Lionel ...  ...     0\n",
              "2  Cotton to House: ’Do Not Walk the Plank and Vo...  ...     0\n",
              "3  Paul LePage, Besieged Maine Governor, Sends Co...  ...     0\n",
              "4                       A Digital 9/11 If Trump Wins  ...     1\n",
              "\n",
              "[5 rows x 4 columns]"
            ]
          },
          "metadata": {
            "tags": []
          },
          "execution_count": 10
        }
      ]
    },
    {
      "cell_type": "code",
      "metadata": {
        "colab": {
          "base_uri": "https://localhost:8080/"
        },
        "id": "ZedpxAq23cnR",
        "outputId": "3dd963bc-5a87-4366-9151-5e7963fcb175"
      },
      "source": [
        "#written_by\n",
        "data.written_by.value_counts"
      ],
      "execution_count": 11,
      "outputs": [
        {
          "output_type": "execute_result",
          "data": {
            "text/plain": [
              "<bound method IndexOpsMixin.value_counts of 0        Eric Lipton and Steve Eder\n",
              "1                   David Waldstein\n",
              "2                           Pam Key\n",
              "3                      Jess Bidgood\n",
              "4                 Finian Cunningham\n",
              "                    ...            \n",
              "20795                NeverSurrender\n",
              "20796                 Rixon Stewart\n",
              "20797                   Eddy Lavine\n",
              "20798                Alison S. Cohn\n",
              "20799                  Tom Ciccotta\n",
              "Name: written_by, Length: 20800, dtype: object>"
            ]
          },
          "metadata": {
            "tags": []
          },
          "execution_count": 11
        }
      ]
    },
    {
      "cell_type": "code",
      "metadata": {
        "colab": {
          "base_uri": "https://localhost:8080/"
        },
        "id": "1BoGDmGb3qrB",
        "outputId": "8ec1227e-1a3c-49bd-a203-b231f5f2b68b"
      },
      "source": [
        "len(data.written_by.unique())"
      ],
      "execution_count": 12,
      "outputs": [
        {
          "output_type": "execute_result",
          "data": {
            "text/plain": [
              "4202"
            ]
          },
          "metadata": {
            "tags": []
          },
          "execution_count": 12
        }
      ]
    },
    {
      "cell_type": "markdown",
      "metadata": {
        "id": "WnncQ9aIFwYO"
      },
      "source": [
        "The number of Authors are 4202."
      ]
    },
    {
      "cell_type": "code",
      "metadata": {
        "colab": {
          "base_uri": "https://localhost:8080/"
        },
        "id": "YrZ4HorW4TEb",
        "outputId": "be441fa9-1684-4847-9c04-a8ee8cb1ec67"
      },
      "source": [
        "#Replacing all the null values with space.\n",
        "data.headline.replace(np.nan,\" \",inplace=True)\n",
        "data.news.replace(np.nan,\" \",inplace=True)\n",
        "data.isna().sum()"
      ],
      "execution_count": 13,
      "outputs": [
        {
          "output_type": "execute_result",
          "data": {
            "text/plain": [
              "headline         0\n",
              "written_by    1957\n",
              "news             0\n",
              "label            0\n",
              "dtype: int64"
            ]
          },
          "metadata": {
            "tags": []
          },
          "execution_count": 13
        }
      ]
    },
    {
      "cell_type": "markdown",
      "metadata": {
        "id": "6RXkji-WG25k"
      },
      "source": [
        "As headline also describes about the news and most of the time it is also responsible if the news is fake or not. So we join both the features before feeding the data into the trainig model."
      ]
    },
    {
      "cell_type": "code",
      "metadata": {
        "colab": {
          "base_uri": "https://localhost:8080/",
          "height": 206
        },
        "id": "HPzQT_BMD5Np",
        "outputId": "37a694f4-b0ee-4be1-ff86-7d58d68393d1"
      },
      "source": [
        "data['all_news']=data['news']+\" \"+data['headline']\n",
        "data.head()"
      ],
      "execution_count": 14,
      "outputs": [
        {
          "output_type": "execute_result",
          "data": {
            "text/html": [
              "<div>\n",
              "<style scoped>\n",
              "    .dataframe tbody tr th:only-of-type {\n",
              "        vertical-align: middle;\n",
              "    }\n",
              "\n",
              "    .dataframe tbody tr th {\n",
              "        vertical-align: top;\n",
              "    }\n",
              "\n",
              "    .dataframe thead th {\n",
              "        text-align: right;\n",
              "    }\n",
              "</style>\n",
              "<table border=\"1\" class=\"dataframe\">\n",
              "  <thead>\n",
              "    <tr style=\"text-align: right;\">\n",
              "      <th></th>\n",
              "      <th>headline</th>\n",
              "      <th>written_by</th>\n",
              "      <th>news</th>\n",
              "      <th>label</th>\n",
              "      <th>all_news</th>\n",
              "    </tr>\n",
              "  </thead>\n",
              "  <tbody>\n",
              "    <tr>\n",
              "      <th>0</th>\n",
              "      <td>Ethics Questions Dogged Agriculture Nominee as...</td>\n",
              "      <td>Eric Lipton and Steve Eder</td>\n",
              "      <td>WASHINGTON  —   In Sonny Perdue’s telling, Geo...</td>\n",
              "      <td>0</td>\n",
              "      <td>WASHINGTON  —   In Sonny Perdue’s telling, Geo...</td>\n",
              "    </tr>\n",
              "    <tr>\n",
              "      <th>1</th>\n",
              "      <td>U.S. Must Dig Deep to Stop Argentina’s Lionel ...</td>\n",
              "      <td>David Waldstein</td>\n",
              "      <td>HOUSTON  —   Venezuela had a plan. It was a ta...</td>\n",
              "      <td>0</td>\n",
              "      <td>HOUSTON  —   Venezuela had a plan. It was a ta...</td>\n",
              "    </tr>\n",
              "    <tr>\n",
              "      <th>2</th>\n",
              "      <td>Cotton to House: ’Do Not Walk the Plank and Vo...</td>\n",
              "      <td>Pam Key</td>\n",
              "      <td>Sunday on ABC’s “This Week,” while discussing ...</td>\n",
              "      <td>0</td>\n",
              "      <td>Sunday on ABC’s “This Week,” while discussing ...</td>\n",
              "    </tr>\n",
              "    <tr>\n",
              "      <th>3</th>\n",
              "      <td>Paul LePage, Besieged Maine Governor, Sends Co...</td>\n",
              "      <td>Jess Bidgood</td>\n",
              "      <td>AUGUSTA, Me.  —   The beleaguered Republican g...</td>\n",
              "      <td>0</td>\n",
              "      <td>AUGUSTA, Me.  —   The beleaguered Republican g...</td>\n",
              "    </tr>\n",
              "    <tr>\n",
              "      <th>4</th>\n",
              "      <td>A Digital 9/11 If Trump Wins</td>\n",
              "      <td>Finian Cunningham</td>\n",
              "      <td>Finian Cunningham has written extensively on...</td>\n",
              "      <td>1</td>\n",
              "      <td>Finian Cunningham has written extensively on...</td>\n",
              "    </tr>\n",
              "  </tbody>\n",
              "</table>\n",
              "</div>"
            ],
            "text/plain": [
              "                                            headline  ...                                           all_news\n",
              "0  Ethics Questions Dogged Agriculture Nominee as...  ...  WASHINGTON  —   In Sonny Perdue’s telling, Geo...\n",
              "1  U.S. Must Dig Deep to Stop Argentina’s Lionel ...  ...  HOUSTON  —   Venezuela had a plan. It was a ta...\n",
              "2  Cotton to House: ’Do Not Walk the Plank and Vo...  ...  Sunday on ABC’s “This Week,” while discussing ...\n",
              "3  Paul LePage, Besieged Maine Governor, Sends Co...  ...  AUGUSTA, Me.  —   The beleaguered Republican g...\n",
              "4                       A Digital 9/11 If Trump Wins  ...    Finian Cunningham has written extensively on...\n",
              "\n",
              "[5 rows x 5 columns]"
            ]
          },
          "metadata": {
            "tags": []
          },
          "execution_count": 14
        }
      ]
    },
    {
      "cell_type": "code",
      "metadata": {
        "colab": {
          "base_uri": "https://localhost:8080/",
          "height": 293
        },
        "id": "myBzUt89DBIM",
        "outputId": "2cc977cd-d306-4db1-88f8-e78534caa1fe"
      },
      "source": [
        "data['h_len']=data.headline.str.len()\n",
        "data['n_len']=data.news.str.len()\n",
        "data['all_news_len']=data.all_news.str.len()\n",
        "data.head()"
      ],
      "execution_count": 15,
      "outputs": [
        {
          "output_type": "execute_result",
          "data": {
            "text/html": [
              "<div>\n",
              "<style scoped>\n",
              "    .dataframe tbody tr th:only-of-type {\n",
              "        vertical-align: middle;\n",
              "    }\n",
              "\n",
              "    .dataframe tbody tr th {\n",
              "        vertical-align: top;\n",
              "    }\n",
              "\n",
              "    .dataframe thead th {\n",
              "        text-align: right;\n",
              "    }\n",
              "</style>\n",
              "<table border=\"1\" class=\"dataframe\">\n",
              "  <thead>\n",
              "    <tr style=\"text-align: right;\">\n",
              "      <th></th>\n",
              "      <th>headline</th>\n",
              "      <th>written_by</th>\n",
              "      <th>news</th>\n",
              "      <th>label</th>\n",
              "      <th>all_news</th>\n",
              "      <th>h_len</th>\n",
              "      <th>n_len</th>\n",
              "      <th>all_news_len</th>\n",
              "    </tr>\n",
              "  </thead>\n",
              "  <tbody>\n",
              "    <tr>\n",
              "      <th>0</th>\n",
              "      <td>Ethics Questions Dogged Agriculture Nominee as...</td>\n",
              "      <td>Eric Lipton and Steve Eder</td>\n",
              "      <td>WASHINGTON  —   In Sonny Perdue’s telling, Geo...</td>\n",
              "      <td>0</td>\n",
              "      <td>WASHINGTON  —   In Sonny Perdue’s telling, Geo...</td>\n",
              "      <td>84</td>\n",
              "      <td>7936</td>\n",
              "      <td>8021</td>\n",
              "    </tr>\n",
              "    <tr>\n",
              "      <th>1</th>\n",
              "      <td>U.S. Must Dig Deep to Stop Argentina’s Lionel ...</td>\n",
              "      <td>David Waldstein</td>\n",
              "      <td>HOUSTON  —   Venezuela had a plan. It was a ta...</td>\n",
              "      <td>0</td>\n",
              "      <td>HOUSTON  —   Venezuela had a plan. It was a ta...</td>\n",
              "      <td>72</td>\n",
              "      <td>6112</td>\n",
              "      <td>6185</td>\n",
              "    </tr>\n",
              "    <tr>\n",
              "      <th>2</th>\n",
              "      <td>Cotton to House: ’Do Not Walk the Plank and Vo...</td>\n",
              "      <td>Pam Key</td>\n",
              "      <td>Sunday on ABC’s “This Week,” while discussing ...</td>\n",
              "      <td>0</td>\n",
              "      <td>Sunday on ABC’s “This Week,” while discussing ...</td>\n",
              "      <td>100</td>\n",
              "      <td>425</td>\n",
              "      <td>526</td>\n",
              "    </tr>\n",
              "    <tr>\n",
              "      <th>3</th>\n",
              "      <td>Paul LePage, Besieged Maine Governor, Sends Co...</td>\n",
              "      <td>Jess Bidgood</td>\n",
              "      <td>AUGUSTA, Me.  —   The beleaguered Republican g...</td>\n",
              "      <td>0</td>\n",
              "      <td>AUGUSTA, Me.  —   The beleaguered Republican g...</td>\n",
              "      <td>100</td>\n",
              "      <td>6516</td>\n",
              "      <td>6617</td>\n",
              "    </tr>\n",
              "    <tr>\n",
              "      <th>4</th>\n",
              "      <td>A Digital 9/11 If Trump Wins</td>\n",
              "      <td>Finian Cunningham</td>\n",
              "      <td>Finian Cunningham has written extensively on...</td>\n",
              "      <td>1</td>\n",
              "      <td>Finian Cunningham has written extensively on...</td>\n",
              "      <td>28</td>\n",
              "      <td>9164</td>\n",
              "      <td>9193</td>\n",
              "    </tr>\n",
              "  </tbody>\n",
              "</table>\n",
              "</div>"
            ],
            "text/plain": [
              "                                            headline  ... all_news_len\n",
              "0  Ethics Questions Dogged Agriculture Nominee as...  ...         8021\n",
              "1  U.S. Must Dig Deep to Stop Argentina’s Lionel ...  ...         6185\n",
              "2  Cotton to House: ’Do Not Walk the Plank and Vo...  ...          526\n",
              "3  Paul LePage, Besieged Maine Governor, Sends Co...  ...         6617\n",
              "4                       A Digital 9/11 If Trump Wins  ...         9193\n",
              "\n",
              "[5 rows x 8 columns]"
            ]
          },
          "metadata": {
            "tags": []
          },
          "execution_count": 15
        }
      ]
    },
    {
      "cell_type": "code",
      "metadata": {
        "colab": {
          "base_uri": "https://localhost:8080/",
          "height": 206
        },
        "id": "4_pWRx3jOTBx",
        "outputId": "a376200f-8a4e-4934-deeb-c48f637866ab"
      },
      "source": [
        "#Now we can drop headline and news columns as we joined both the features into a single feature all_news\n",
        "data.drop(['headline','news'],axis=1,inplace=True)\n",
        "data.head()"
      ],
      "execution_count": 16,
      "outputs": [
        {
          "output_type": "execute_result",
          "data": {
            "text/html": [
              "<div>\n",
              "<style scoped>\n",
              "    .dataframe tbody tr th:only-of-type {\n",
              "        vertical-align: middle;\n",
              "    }\n",
              "\n",
              "    .dataframe tbody tr th {\n",
              "        vertical-align: top;\n",
              "    }\n",
              "\n",
              "    .dataframe thead th {\n",
              "        text-align: right;\n",
              "    }\n",
              "</style>\n",
              "<table border=\"1\" class=\"dataframe\">\n",
              "  <thead>\n",
              "    <tr style=\"text-align: right;\">\n",
              "      <th></th>\n",
              "      <th>written_by</th>\n",
              "      <th>label</th>\n",
              "      <th>all_news</th>\n",
              "      <th>h_len</th>\n",
              "      <th>n_len</th>\n",
              "      <th>all_news_len</th>\n",
              "    </tr>\n",
              "  </thead>\n",
              "  <tbody>\n",
              "    <tr>\n",
              "      <th>0</th>\n",
              "      <td>Eric Lipton and Steve Eder</td>\n",
              "      <td>0</td>\n",
              "      <td>WASHINGTON  —   In Sonny Perdue’s telling, Geo...</td>\n",
              "      <td>84</td>\n",
              "      <td>7936</td>\n",
              "      <td>8021</td>\n",
              "    </tr>\n",
              "    <tr>\n",
              "      <th>1</th>\n",
              "      <td>David Waldstein</td>\n",
              "      <td>0</td>\n",
              "      <td>HOUSTON  —   Venezuela had a plan. It was a ta...</td>\n",
              "      <td>72</td>\n",
              "      <td>6112</td>\n",
              "      <td>6185</td>\n",
              "    </tr>\n",
              "    <tr>\n",
              "      <th>2</th>\n",
              "      <td>Pam Key</td>\n",
              "      <td>0</td>\n",
              "      <td>Sunday on ABC’s “This Week,” while discussing ...</td>\n",
              "      <td>100</td>\n",
              "      <td>425</td>\n",
              "      <td>526</td>\n",
              "    </tr>\n",
              "    <tr>\n",
              "      <th>3</th>\n",
              "      <td>Jess Bidgood</td>\n",
              "      <td>0</td>\n",
              "      <td>AUGUSTA, Me.  —   The beleaguered Republican g...</td>\n",
              "      <td>100</td>\n",
              "      <td>6516</td>\n",
              "      <td>6617</td>\n",
              "    </tr>\n",
              "    <tr>\n",
              "      <th>4</th>\n",
              "      <td>Finian Cunningham</td>\n",
              "      <td>1</td>\n",
              "      <td>Finian Cunningham has written extensively on...</td>\n",
              "      <td>28</td>\n",
              "      <td>9164</td>\n",
              "      <td>9193</td>\n",
              "    </tr>\n",
              "  </tbody>\n",
              "</table>\n",
              "</div>"
            ],
            "text/plain": [
              "                   written_by  label  ... n_len  all_news_len\n",
              "0  Eric Lipton and Steve Eder      0  ...  7936          8021\n",
              "1             David Waldstein      0  ...  6112          6185\n",
              "2                     Pam Key      0  ...   425           526\n",
              "3                Jess Bidgood      0  ...  6516          6617\n",
              "4           Finian Cunningham      1  ...  9164          9193\n",
              "\n",
              "[5 rows x 6 columns]"
            ]
          },
          "metadata": {
            "tags": []
          },
          "execution_count": 16
        }
      ]
    },
    {
      "cell_type": "code",
      "metadata": {
        "colab": {
          "base_uri": "https://localhost:8080/",
          "height": 206
        },
        "id": "7fdUEZ0EAwwD",
        "outputId": "3d4a2055-5235-44b1-8803-21ac6f6027b5"
      },
      "source": [
        "#We train the model on all_news feature so converting it to Lowercase\n",
        "data['all_news']=data['all_news'].str.lower()\n",
        "data.head()"
      ],
      "execution_count": 17,
      "outputs": [
        {
          "output_type": "execute_result",
          "data": {
            "text/html": [
              "<div>\n",
              "<style scoped>\n",
              "    .dataframe tbody tr th:only-of-type {\n",
              "        vertical-align: middle;\n",
              "    }\n",
              "\n",
              "    .dataframe tbody tr th {\n",
              "        vertical-align: top;\n",
              "    }\n",
              "\n",
              "    .dataframe thead th {\n",
              "        text-align: right;\n",
              "    }\n",
              "</style>\n",
              "<table border=\"1\" class=\"dataframe\">\n",
              "  <thead>\n",
              "    <tr style=\"text-align: right;\">\n",
              "      <th></th>\n",
              "      <th>written_by</th>\n",
              "      <th>label</th>\n",
              "      <th>all_news</th>\n",
              "      <th>h_len</th>\n",
              "      <th>n_len</th>\n",
              "      <th>all_news_len</th>\n",
              "    </tr>\n",
              "  </thead>\n",
              "  <tbody>\n",
              "    <tr>\n",
              "      <th>0</th>\n",
              "      <td>Eric Lipton and Steve Eder</td>\n",
              "      <td>0</td>\n",
              "      <td>washington  —   in sonny perdue’s telling, geo...</td>\n",
              "      <td>84</td>\n",
              "      <td>7936</td>\n",
              "      <td>8021</td>\n",
              "    </tr>\n",
              "    <tr>\n",
              "      <th>1</th>\n",
              "      <td>David Waldstein</td>\n",
              "      <td>0</td>\n",
              "      <td>houston  —   venezuela had a plan. it was a ta...</td>\n",
              "      <td>72</td>\n",
              "      <td>6112</td>\n",
              "      <td>6185</td>\n",
              "    </tr>\n",
              "    <tr>\n",
              "      <th>2</th>\n",
              "      <td>Pam Key</td>\n",
              "      <td>0</td>\n",
              "      <td>sunday on abc’s “this week,” while discussing ...</td>\n",
              "      <td>100</td>\n",
              "      <td>425</td>\n",
              "      <td>526</td>\n",
              "    </tr>\n",
              "    <tr>\n",
              "      <th>3</th>\n",
              "      <td>Jess Bidgood</td>\n",
              "      <td>0</td>\n",
              "      <td>augusta, me.  —   the beleaguered republican g...</td>\n",
              "      <td>100</td>\n",
              "      <td>6516</td>\n",
              "      <td>6617</td>\n",
              "    </tr>\n",
              "    <tr>\n",
              "      <th>4</th>\n",
              "      <td>Finian Cunningham</td>\n",
              "      <td>1</td>\n",
              "      <td>finian cunningham has written extensively on...</td>\n",
              "      <td>28</td>\n",
              "      <td>9164</td>\n",
              "      <td>9193</td>\n",
              "    </tr>\n",
              "  </tbody>\n",
              "</table>\n",
              "</div>"
            ],
            "text/plain": [
              "                   written_by  label  ... n_len  all_news_len\n",
              "0  Eric Lipton and Steve Eder      0  ...  7936          8021\n",
              "1             David Waldstein      0  ...  6112          6185\n",
              "2                     Pam Key      0  ...   425           526\n",
              "3                Jess Bidgood      0  ...  6516          6617\n",
              "4           Finian Cunningham      1  ...  9164          9193\n",
              "\n",
              "[5 rows x 6 columns]"
            ]
          },
          "metadata": {
            "tags": []
          },
          "execution_count": 17
        }
      ]
    },
    {
      "cell_type": "code",
      "metadata": {
        "id": "2Or5RfPzCIi9"
      },
      "source": [
        "stopwords=stopwords.words('english')\n",
        "#removing stopwords\n",
        "data.all_news=data.all_news.apply(lambda x: ' '.join(\n",
        "    word for word in x.split() if word not in stopwords\n",
        "))"
      ],
      "execution_count": 18,
      "outputs": []
    },
    {
      "cell_type": "code",
      "metadata": {
        "colab": {
          "base_uri": "https://localhost:8080/",
          "height": 206
        },
        "id": "RG1FHF4zCIsX",
        "outputId": "bdb5e6e3-9861-4d3d-e9fd-5fed9472891f"
      },
      "source": [
        "#Removing punctuations\n",
        "data.all_news=data.all_news.str.replace(r'[^\\w\\d\\s]',\" \")\n",
        "\n",
        "#Removing more than one leading and trailing spaces\n",
        "data.all_news=data.all_news.str.replace(r'^s+|s+?$', \" \")\n",
        "\n",
        "#Replacing Leading and trauiling tabs with space\n",
        "data.all_news=data.all_news.str.replace(r'^t+|t+?$',\" \")\n",
        "\n",
        "#Creating feature clean_all_news_length\n",
        "data['cleaned_all_news_len']=data.all_news.str.len()\n",
        "\n",
        "data.head()"
      ],
      "execution_count": 19,
      "outputs": [
        {
          "output_type": "execute_result",
          "data": {
            "text/html": [
              "<div>\n",
              "<style scoped>\n",
              "    .dataframe tbody tr th:only-of-type {\n",
              "        vertical-align: middle;\n",
              "    }\n",
              "\n",
              "    .dataframe tbody tr th {\n",
              "        vertical-align: top;\n",
              "    }\n",
              "\n",
              "    .dataframe thead th {\n",
              "        text-align: right;\n",
              "    }\n",
              "</style>\n",
              "<table border=\"1\" class=\"dataframe\">\n",
              "  <thead>\n",
              "    <tr style=\"text-align: right;\">\n",
              "      <th></th>\n",
              "      <th>written_by</th>\n",
              "      <th>label</th>\n",
              "      <th>all_news</th>\n",
              "      <th>h_len</th>\n",
              "      <th>n_len</th>\n",
              "      <th>all_news_len</th>\n",
              "      <th>cleaned_all_news_len</th>\n",
              "    </tr>\n",
              "  </thead>\n",
              "  <tbody>\n",
              "    <tr>\n",
              "      <th>0</th>\n",
              "      <td>Eric Lipton and Steve Eder</td>\n",
              "      <td>0</td>\n",
              "      <td>washington   sonny perdue s telling  georgians...</td>\n",
              "      <td>84</td>\n",
              "      <td>7936</td>\n",
              "      <td>8021</td>\n",
              "      <td>5915</td>\n",
              "    </tr>\n",
              "    <tr>\n",
              "      <th>1</th>\n",
              "      <td>David Waldstein</td>\n",
              "      <td>0</td>\n",
              "      <td>houston   venezuela plan  tactical approach  d...</td>\n",
              "      <td>72</td>\n",
              "      <td>6112</td>\n",
              "      <td>6185</td>\n",
              "      <td>4536</td>\n",
              "    </tr>\n",
              "    <tr>\n",
              "      <th>2</th>\n",
              "      <td>Pam Key</td>\n",
              "      <td>0</td>\n",
              "      <td>unday abc s  this week   discussing republica...</td>\n",
              "      <td>100</td>\n",
              "      <td>425</td>\n",
              "      <td>526</td>\n",
              "      <td>381</td>\n",
              "    </tr>\n",
              "    <tr>\n",
              "      <th>3</th>\n",
              "      <td>Jess Bidgood</td>\n",
              "      <td>0</td>\n",
              "      <td>augusta  me    beleaguered republican governor...</td>\n",
              "      <td>100</td>\n",
              "      <td>6516</td>\n",
              "      <td>6617</td>\n",
              "      <td>4877</td>\n",
              "    </tr>\n",
              "    <tr>\n",
              "      <th>4</th>\n",
              "      <td>Finian Cunningham</td>\n",
              "      <td>1</td>\n",
              "      <td>finian cunningham written extensively internat...</td>\n",
              "      <td>28</td>\n",
              "      <td>9164</td>\n",
              "      <td>9193</td>\n",
              "      <td>6986</td>\n",
              "    </tr>\n",
              "  </tbody>\n",
              "</table>\n",
              "</div>"
            ],
            "text/plain": [
              "                   written_by  label  ... all_news_len  cleaned_all_news_len\n",
              "0  Eric Lipton and Steve Eder      0  ...         8021                  5915\n",
              "1             David Waldstein      0  ...         6185                  4536\n",
              "2                     Pam Key      0  ...          526                   381\n",
              "3                Jess Bidgood      0  ...         6617                  4877\n",
              "4           Finian Cunningham      1  ...         9193                  6986\n",
              "\n",
              "[5 rows x 7 columns]"
            ]
          },
          "metadata": {
            "tags": []
          },
          "execution_count": 19
        }
      ]
    },
    {
      "cell_type": "code",
      "metadata": {
        "id": "NIA_jcZICIo_"
      },
      "source": [
        "#The data is cleaned.we vectorize the data by TfidfVectorizer and split the dependent and independent sets\n",
        "tfidf=TfidfVectorizer()\n",
        "\n",
        "x=tfidf.fit_transform(data.all_news)\n",
        "\n",
        "y=data.label"
      ],
      "execution_count": 20,
      "outputs": []
    },
    {
      "cell_type": "code",
      "metadata": {
        "colab": {
          "base_uri": "https://localhost:8080/"
        },
        "id": "Qg2mj7eECImp",
        "outputId": "aa2b7747-41ab-4bf0-f497-f65111cc5f7d"
      },
      "source": [
        "#Checking for best randomstate\n",
        "max_acc_scr=0\n",
        "for r_state in range(42,101):\n",
        "  train_x,test_x,train_y,test_y=train_test_split(x,y,random_state=r_state,test_size=0.25)\n",
        "  mnb=MultinomialNB()\n",
        "  mnb.fit(train_x,train_y)\n",
        "  pred=mnb.predict(test_x)\n",
        "  acc_scr=accuracy_score(pred,test_y)\n",
        "  if acc_scr>max_acc_scr:\n",
        "    max_acc_scr=acc_scr\n",
        "    final_r_state=r_state\n",
        "  print(\"Max Accuracy score corresponding to \",final_r_state,\" is \",max_acc_scr)"
      ],
      "execution_count": 21,
      "outputs": [
        {
          "output_type": "stream",
          "text": [
            "Max Accuracy score corresponding to  42  is  0.8611538461538462\n",
            "Max Accuracy score corresponding to  42  is  0.8611538461538462\n",
            "Max Accuracy score corresponding to  42  is  0.8611538461538462\n",
            "Max Accuracy score corresponding to  45  is  0.8646153846153846\n",
            "Max Accuracy score corresponding to  45  is  0.8646153846153846\n",
            "Max Accuracy score corresponding to  47  is  0.8653846153846154\n",
            "Max Accuracy score corresponding to  47  is  0.8653846153846154\n",
            "Max Accuracy score corresponding to  49  is  0.874423076923077\n",
            "Max Accuracy score corresponding to  49  is  0.874423076923077\n",
            "Max Accuracy score corresponding to  49  is  0.874423076923077\n",
            "Max Accuracy score corresponding to  49  is  0.874423076923077\n",
            "Max Accuracy score corresponding to  49  is  0.874423076923077\n",
            "Max Accuracy score corresponding to  49  is  0.874423076923077\n",
            "Max Accuracy score corresponding to  49  is  0.874423076923077\n",
            "Max Accuracy score corresponding to  49  is  0.874423076923077\n",
            "Max Accuracy score corresponding to  49  is  0.874423076923077\n",
            "Max Accuracy score corresponding to  49  is  0.874423076923077\n",
            "Max Accuracy score corresponding to  49  is  0.874423076923077\n",
            "Max Accuracy score corresponding to  49  is  0.874423076923077\n",
            "Max Accuracy score corresponding to  49  is  0.874423076923077\n",
            "Max Accuracy score corresponding to  49  is  0.874423076923077\n",
            "Max Accuracy score corresponding to  49  is  0.874423076923077\n",
            "Max Accuracy score corresponding to  49  is  0.874423076923077\n",
            "Max Accuracy score corresponding to  49  is  0.874423076923077\n",
            "Max Accuracy score corresponding to  49  is  0.874423076923077\n",
            "Max Accuracy score corresponding to  49  is  0.874423076923077\n",
            "Max Accuracy score corresponding to  49  is  0.874423076923077\n",
            "Max Accuracy score corresponding to  49  is  0.874423076923077\n",
            "Max Accuracy score corresponding to  49  is  0.874423076923077\n",
            "Max Accuracy score corresponding to  49  is  0.874423076923077\n",
            "Max Accuracy score corresponding to  49  is  0.874423076923077\n",
            "Max Accuracy score corresponding to  49  is  0.874423076923077\n",
            "Max Accuracy score corresponding to  49  is  0.874423076923077\n",
            "Max Accuracy score corresponding to  49  is  0.874423076923077\n",
            "Max Accuracy score corresponding to  49  is  0.874423076923077\n",
            "Max Accuracy score corresponding to  49  is  0.874423076923077\n",
            "Max Accuracy score corresponding to  49  is  0.874423076923077\n",
            "Max Accuracy score corresponding to  49  is  0.874423076923077\n",
            "Max Accuracy score corresponding to  49  is  0.874423076923077\n",
            "Max Accuracy score corresponding to  49  is  0.874423076923077\n",
            "Max Accuracy score corresponding to  49  is  0.874423076923077\n",
            "Max Accuracy score corresponding to  49  is  0.874423076923077\n",
            "Max Accuracy score corresponding to  49  is  0.874423076923077\n",
            "Max Accuracy score corresponding to  49  is  0.874423076923077\n",
            "Max Accuracy score corresponding to  49  is  0.874423076923077\n",
            "Max Accuracy score corresponding to  49  is  0.874423076923077\n",
            "Max Accuracy score corresponding to  49  is  0.874423076923077\n",
            "Max Accuracy score corresponding to  49  is  0.874423076923077\n",
            "Max Accuracy score corresponding to  49  is  0.874423076923077\n",
            "Max Accuracy score corresponding to  49  is  0.874423076923077\n",
            "Max Accuracy score corresponding to  49  is  0.874423076923077\n",
            "Max Accuracy score corresponding to  49  is  0.874423076923077\n",
            "Max Accuracy score corresponding to  49  is  0.874423076923077\n",
            "Max Accuracy score corresponding to  49  is  0.874423076923077\n",
            "Max Accuracy score corresponding to  49  is  0.874423076923077\n",
            "Max Accuracy score corresponding to  49  is  0.874423076923077\n",
            "Max Accuracy score corresponding to  49  is  0.874423076923077\n",
            "Max Accuracy score corresponding to  49  is  0.874423076923077\n",
            "Max Accuracy score corresponding to  49  is  0.874423076923077\n"
          ],
          "name": "stdout"
        }
      ]
    },
    {
      "cell_type": "code",
      "metadata": {
        "id": "htj9wRTP_m7X"
      },
      "source": [
        "#At random_state 49 the accuracy is highest. So we take random_state 49 for fianl splitting\n",
        "train_x,test_x,train_y,test_y=train_test_split(x,y,random_state=49,test_size=0.25,shuffle=True,stratify=y)"
      ],
      "execution_count": 22,
      "outputs": []
    },
    {
      "cell_type": "code",
      "metadata": {
        "colab": {
          "base_uri": "https://localhost:8080/"
        },
        "id": "izDw9N2qqkMd",
        "outputId": "318da05e-e18b-48d2-8523-0d02c4769d67"
      },
      "source": [
        "model=[MultinomialNB(),LogisticRegression(),DecisionTreeClassifier(),KNeighborsClassifier()]\n",
        "for m in model:\n",
        "  m.fit(train_x,train_y)\n",
        "  predm=m.predict(test_x)\n",
        "  print(\"Model\",m)\n",
        "  print(\"Accruracy Score\",accuracy_score(predm,test_y))\n",
        "  print(\"Confusion Matrix: \\n\",confusion_matrix(predm,test_y))\n",
        "  print(\"Classification report:\\n\",classification_report(test_y,predm))\n",
        "  print(\"*\"*70)"
      ],
      "execution_count": 23,
      "outputs": [
        {
          "output_type": "stream",
          "text": [
            "Model MultinomialNB(alpha=1.0, class_prior=None, fit_prior=True)\n",
            "Accruracy Score 0.8536538461538462\n",
            "Confusion Matrix: \n",
            " [[2565  729]\n",
            " [  32 1874]]\n",
            "Classification report:\n",
            "               precision    recall  f1-score   support\n",
            "\n",
            "           0       0.78      0.99      0.87      2597\n",
            "           1       0.98      0.72      0.83      2603\n",
            "\n",
            "    accuracy                           0.85      5200\n",
            "   macro avg       0.88      0.85      0.85      5200\n",
            "weighted avg       0.88      0.85      0.85      5200\n",
            "\n",
            "**********************************************************************\n",
            "Model LogisticRegression(C=1.0, class_weight=None, dual=False, fit_intercept=True,\n",
            "                   intercept_scaling=1, l1_ratio=None, max_iter=100,\n",
            "                   multi_class='auto', n_jobs=None, penalty='l2',\n",
            "                   random_state=None, solver='lbfgs', tol=0.0001, verbose=0,\n",
            "                   warm_start=False)\n",
            "Accruracy Score 0.9532692307692308\n",
            "Confusion Matrix: \n",
            " [[2438   84]\n",
            " [ 159 2519]]\n",
            "Classification report:\n",
            "               precision    recall  f1-score   support\n",
            "\n",
            "           0       0.97      0.94      0.95      2597\n",
            "           1       0.94      0.97      0.95      2603\n",
            "\n",
            "    accuracy                           0.95      5200\n",
            "   macro avg       0.95      0.95      0.95      5200\n",
            "weighted avg       0.95      0.95      0.95      5200\n",
            "\n",
            "**********************************************************************\n",
            "Model DecisionTreeClassifier(ccp_alpha=0.0, class_weight=None, criterion='gini',\n",
            "                       max_depth=None, max_features=None, max_leaf_nodes=None,\n",
            "                       min_impurity_decrease=0.0, min_impurity_split=None,\n",
            "                       min_samples_leaf=1, min_samples_split=2,\n",
            "                       min_weight_fraction_leaf=0.0, presort='deprecated',\n",
            "                       random_state=None, splitter='best')\n",
            "Accruracy Score 0.9423076923076923\n",
            "Confusion Matrix: \n",
            " [[2422  125]\n",
            " [ 175 2478]]\n",
            "Classification report:\n",
            "               precision    recall  f1-score   support\n",
            "\n",
            "           0       0.95      0.93      0.94      2597\n",
            "           1       0.93      0.95      0.94      2603\n",
            "\n",
            "    accuracy                           0.94      5200\n",
            "   macro avg       0.94      0.94      0.94      5200\n",
            "weighted avg       0.94      0.94      0.94      5200\n",
            "\n",
            "**********************************************************************\n",
            "Model KNeighborsClassifier(algorithm='auto', leaf_size=30, metric='minkowski',\n",
            "                     metric_params=None, n_jobs=None, n_neighbors=5, p=2,\n",
            "                     weights='uniform')\n",
            "Accruracy Score 0.8221153846153846\n",
            "Confusion Matrix: \n",
            " [[1829  157]\n",
            " [ 768 2446]]\n",
            "Classification report:\n",
            "               precision    recall  f1-score   support\n",
            "\n",
            "           0       0.92      0.70      0.80      2597\n",
            "           1       0.76      0.94      0.84      2603\n",
            "\n",
            "    accuracy                           0.82      5200\n",
            "   macro avg       0.84      0.82      0.82      5200\n",
            "weighted avg       0.84      0.82      0.82      5200\n",
            "\n",
            "**********************************************************************\n"
          ],
          "name": "stdout"
        }
      ]
    },
    {
      "cell_type": "code",
      "metadata": {
        "colab": {
          "base_uri": "https://localhost:8080/"
        },
        "id": "ZLyKkkJiu7Mo",
        "outputId": "617cfe3b-4d15-49b4-818d-bf50e20cb9a6"
      },
      "source": [
        "from sklearn.ensemble import RandomForestClassifier\n",
        "\n",
        "#Checking the score by RandomForestClassifier\n",
        "rf=RandomForestClassifier()\n",
        "rf.fit(train_x,train_y)\n",
        "rfpred=rf.predict(test_x)\n",
        "print(\"Accruracy Score\",accuracy_score(predm,test_y))\n",
        "print(\"Confusion Matrix: \\n\",confusion_matrix(predm,test_y))\n",
        "print(\"Classification report:\\n\",classification_report(test_y,predm))"
      ],
      "execution_count": 24,
      "outputs": [
        {
          "output_type": "stream",
          "text": [
            "Accruracy Score 0.8221153846153846\n",
            "Confusion Matrix: \n",
            " [[1829  157]\n",
            " [ 768 2446]]\n",
            "Classification report:\n",
            "               precision    recall  f1-score   support\n",
            "\n",
            "           0       0.92      0.70      0.80      2597\n",
            "           1       0.76      0.94      0.84      2603\n",
            "\n",
            "    accuracy                           0.82      5200\n",
            "   macro avg       0.84      0.82      0.82      5200\n",
            "weighted avg       0.84      0.82      0.82      5200\n",
            "\n"
          ],
          "name": "stdout"
        }
      ]
    },
    {
      "cell_type": "markdown",
      "metadata": {
        "id": "QM2ldrCMb0Co"
      },
      "source": [
        "Among all the classifiers LogisticRegression has the highest F1score,Accuracy,recall and precision among all the Classifiers.So we finalize LogisticRegression as Final Model."
      ]
    },
    {
      "cell_type": "code",
      "metadata": {
        "colab": {
          "base_uri": "https://localhost:8080/"
        },
        "id": "hU8ywW_QcUHp",
        "outputId": "05d52cc5-54e2-482c-f152-3ba927e68cce"
      },
      "source": [
        "Lr=LogisticRegression()\n",
        "param={'penalty':['l1','l2','elasticnet','none'],'class_weight':['dict','balanced'],'solver':['newton-cg','lbfgs','liblinear']}\n",
        "gd_sr=GridSearchCV(estimator=Lr,param_grid=param,cv=5,scoring='f1')\n",
        "gd_sr.fit(train_x,train_y)\n",
        "best_param=gd_sr.best_params_\n",
        "print(best_param)\n",
        "best_score=gd_sr.best_score_\n",
        "print(best_score)"
      ],
      "execution_count": 26,
      "outputs": [
        {
          "output_type": "stream",
          "text": [
            "{'class_weight': 'dict', 'penalty': 'none', 'solver': 'newton-cg'}\n",
            "0.969263039760239\n"
          ],
          "name": "stdout"
        }
      ]
    },
    {
      "cell_type": "code",
      "metadata": {
        "colab": {
          "base_uri": "https://localhost:8080/"
        },
        "id": "PmCRN6IHcUNn",
        "outputId": "047002e0-2483-4525-bbd7-73b8dd20bd90"
      },
      "source": [
        "#Final model\n",
        "lr=LogisticRegression(penalty='none',solver='newton-cg',class_weight='balanced')\n",
        "lr.fit(train_x,train_y)\n",
        "lrpred=lr.predict(test_x)\n",
        "print(\"Accruracy Score\",accuracy_score(lrpred,test_y))\n",
        "print(\"Confusion Matrix: \\n\",confusion_matrix(lrpred,test_y))\n",
        "print(\"Classification report:\\n\",classification_report(lrpred,test_y))"
      ],
      "execution_count": 29,
      "outputs": [
        {
          "output_type": "stream",
          "text": [
            "Accruracy Score 0.9665384615384616\n",
            "Confusion Matrix: \n",
            " [[2490   67]\n",
            " [ 107 2536]]\n",
            "Classification report:\n",
            "               precision    recall  f1-score   support\n",
            "\n",
            "           0       0.96      0.97      0.97      2557\n",
            "           1       0.97      0.96      0.97      2643\n",
            "\n",
            "    accuracy                           0.97      5200\n",
            "   macro avg       0.97      0.97      0.97      5200\n",
            "weighted avg       0.97      0.97      0.97      5200\n",
            "\n"
          ],
          "name": "stdout"
        }
      ]
    },
    {
      "cell_type": "code",
      "metadata": {
        "colab": {
          "base_uri": "https://localhost:8080/"
        },
        "id": "EflWEgQkcULT",
        "outputId": "dcfb475a-f469-438d-c155-79f2bd959066"
      },
      "source": [
        "#Checking if the model is over or underfitted\n",
        "c_score=cross_val_score(lr,x,y,scoring='f1',cv=5)\n",
        "print(c_score)\n",
        "print(np.mean(c_score))"
      ],
      "execution_count": 30,
      "outputs": [
        {
          "output_type": "stream",
          "text": [
            "[0.97367161 0.97026379 0.97100407 0.97288217 0.97145576]\n",
            "0.9718554803675202\n"
          ],
          "name": "stdout"
        }
      ]
    },
    {
      "cell_type": "code",
      "metadata": {
        "colab": {
          "base_uri": "https://localhost:8080/"
        },
        "id": "uBqX4YNCsjGZ",
        "outputId": "90ef5319-d3e5-4c8d-af93-72904558c48a"
      },
      "source": [
        "a_score=cross_val_score(lr,x,y,scoring='accuracy',cv=5)\n",
        "print(a_score)\n",
        "print(np.mean(a_score))"
      ],
      "execution_count": 31,
      "outputs": [
        {
          "output_type": "stream",
          "text": [
            "[0.97355769 0.97019231 0.97091346 0.97283654 0.97115385]\n",
            "0.9717307692307692\n"
          ],
          "name": "stdout"
        }
      ]
    },
    {
      "cell_type": "markdown",
      "metadata": {
        "id": "VGt0aiMnsXUs"
      },
      "source": [
        ""
      ]
    },
    {
      "cell_type": "code",
      "metadata": {
        "id": "9BnLjb45sO93"
      },
      "source": [
        "#Model is well fitted."
      ],
      "execution_count": 33,
      "outputs": []
    },
    {
      "cell_type": "code",
      "metadata": {
        "colab": {
          "base_uri": "https://localhost:8080/"
        },
        "id": "oSeP_xRQsv2y",
        "outputId": "4971c656-fa1a-4964-8783-0c3180fd3762"
      },
      "source": [
        "print('The prediction are: ',lrpred)"
      ],
      "execution_count": 36,
      "outputs": [
        {
          "output_type": "stream",
          "text": [
            "The prediction are:  [1 1 0 ... 1 1 1]\n"
          ],
          "name": "stdout"
        }
      ]
    },
    {
      "cell_type": "code",
      "metadata": {
        "colab": {
          "base_uri": "https://localhost:8080/"
        },
        "id": "W5iIPgQrtA5h",
        "outputId": "60146dea-9c3e-488d-ca16-012081a33857"
      },
      "source": [
        "#Saving the prediction in a csv file\n",
        "df=pd.DataFrame(lrpred)\n",
        "df.to_csv(\"news_prediction.csv\")\n",
        "\n",
        "#saving the model for production\n",
        "from sklearn.externals import joblib\n",
        "joblib.dump(lr,\"news_prediction_model.obj\")"
      ],
      "execution_count": 37,
      "outputs": [
        {
          "output_type": "execute_result",
          "data": {
            "text/plain": [
              "['news_prediction_model.obj']"
            ]
          },
          "metadata": {
            "tags": []
          },
          "execution_count": 37
        }
      ]
    },
    {
      "cell_type": "code",
      "metadata": {
        "id": "93sqjXbZuAIa"
      },
      "source": [
        ""
      ],
      "execution_count": null,
      "outputs": []
    }
  ]
}